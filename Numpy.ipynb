{
 "cells": [
  {
   "cell_type": "markdown",
   "id": "aa9c0820",
   "metadata": {},
   "source": [
    "# np.nan and np.inf"
   ]
  },
  {
   "cell_type": "code",
   "execution_count": 1,
   "id": "9bc29332",
   "metadata": {},
   "outputs": [],
   "source": [
    "import numpy as np"
   ]
  },
  {
   "cell_type": "raw",
   "id": "67b6d0ff",
   "metadata": {},
   "source": [
    "nan -> Not a number\n",
    "inf -> infinte number"
   ]
  },
  {
   "cell_type": "code",
   "execution_count": 2,
   "id": "d6c7f136",
   "metadata": {},
   "outputs": [
    {
     "data": {
      "text/plain": [
       "True"
      ]
     },
     "execution_count": 2,
     "metadata": {},
     "output_type": "execute_result"
    }
   ],
   "source": [
    "np.inf==np.inf"
   ]
  },
  {
   "cell_type": "code",
   "execution_count": 3,
   "id": "53d46df9",
   "metadata": {},
   "outputs": [
    {
     "data": {
      "text/plain": [
       "False"
      ]
     },
     "execution_count": 3,
     "metadata": {},
     "output_type": "execute_result"
    }
   ],
   "source": [
    "np.nan==np.nan"
   ]
  },
  {
   "cell_type": "code",
   "execution_count": 4,
   "id": "47ffac97",
   "metadata": {},
   "outputs": [],
   "source": [
    "l=[1,2,3,4,5]"
   ]
  },
  {
   "cell_type": "code",
   "execution_count": 7,
   "id": "b5b7bdda",
   "metadata": {},
   "outputs": [],
   "source": [
    "npa=np.array(l)"
   ]
  },
  {
   "cell_type": "code",
   "execution_count": 8,
   "id": "a41b95a4",
   "metadata": {},
   "outputs": [
    {
     "data": {
      "text/plain": [
       "array([1, 2, 3, 4, 5])"
      ]
     },
     "execution_count": 8,
     "metadata": {},
     "output_type": "execute_result"
    }
   ],
   "source": [
    "npa"
   ]
  },
  {
   "cell_type": "code",
   "execution_count": 9,
   "id": "1dbc1ace",
   "metadata": {},
   "outputs": [],
   "source": [
    "l=[[1,2,3],[4,5,6],[7,8,9]]"
   ]
  },
  {
   "cell_type": "code",
   "execution_count": 10,
   "id": "56b12027",
   "metadata": {},
   "outputs": [],
   "source": [
    "np2d=np.array(l)"
   ]
  },
  {
   "cell_type": "code",
   "execution_count": 11,
   "id": "958e5f87",
   "metadata": {},
   "outputs": [
    {
     "data": {
      "text/plain": [
       "array([[1, 2, 3],\n",
       "       [4, 5, 6],\n",
       "       [7, 8, 9]])"
      ]
     },
     "execution_count": 11,
     "metadata": {},
     "output_type": "execute_result"
    }
   ],
   "source": [
    "np2d"
   ]
  },
  {
   "cell_type": "code",
   "execution_count": 13,
   "id": "3f08835d",
   "metadata": {},
   "outputs": [],
   "source": [
    "np2d=np2d.astype('float')"
   ]
  },
  {
   "cell_type": "code",
   "execution_count": 15,
   "id": "e33e135c",
   "metadata": {},
   "outputs": [
    {
     "data": {
      "text/plain": [
       "array([[1., 2., 3.],\n",
       "       [4., 5., 6.],\n",
       "       [7., 8., 9.]])"
      ]
     },
     "execution_count": 15,
     "metadata": {},
     "output_type": "execute_result"
    }
   ],
   "source": [
    "np2d"
   ]
  },
  {
   "cell_type": "code",
   "execution_count": 18,
   "id": "3dc29913",
   "metadata": {},
   "outputs": [],
   "source": [
    "np2d=np2d.astype('int')"
   ]
  },
  {
   "cell_type": "code",
   "execution_count": 19,
   "id": "f2113041",
   "metadata": {},
   "outputs": [
    {
     "data": {
      "text/plain": [
       "array([[1, 2, 3],\n",
       "       [4, 5, 6],\n",
       "       [7, 8, 9]])"
      ]
     },
     "execution_count": 19,
     "metadata": {},
     "output_type": "execute_result"
    }
   ],
   "source": [
    "np2d"
   ]
  },
  {
   "cell_type": "code",
   "execution_count": 21,
   "id": "206fcc7d",
   "metadata": {},
   "outputs": [],
   "source": [
    "np2d=np2d.astype('float')"
   ]
  },
  {
   "cell_type": "code",
   "execution_count": 22,
   "id": "989ee0fb",
   "metadata": {},
   "outputs": [],
   "source": [
    "np2d[0][0]=np.nan\n",
    "np2d[1][1]=np.inf"
   ]
  },
  {
   "cell_type": "code",
   "execution_count": 23,
   "id": "8c513dbf",
   "metadata": {},
   "outputs": [
    {
     "data": {
      "text/plain": [
       "array([[nan,  2.,  3.],\n",
       "       [ 4., inf,  6.],\n",
       "       [ 7.,  8.,  9.]])"
      ]
     },
     "execution_count": 23,
     "metadata": {},
     "output_type": "execute_result"
    }
   ],
   "source": [
    "np2d"
   ]
  },
  {
   "cell_type": "code",
   "execution_count": 24,
   "id": "76133519",
   "metadata": {},
   "outputs": [
    {
     "data": {
      "text/plain": [
       "array([[ True, False, False],\n",
       "       [False, False, False],\n",
       "       [False, False, False]])"
      ]
     },
     "execution_count": 24,
     "metadata": {},
     "output_type": "execute_result"
    }
   ],
   "source": [
    "np.isnan(np2d)"
   ]
  },
  {
   "cell_type": "code",
   "execution_count": 25,
   "id": "12fadd46",
   "metadata": {},
   "outputs": [
    {
     "data": {
      "text/plain": [
       "array([[False, False, False],\n",
       "       [False,  True, False],\n",
       "       [False, False, False]])"
      ]
     },
     "execution_count": 25,
     "metadata": {},
     "output_type": "execute_result"
    }
   ],
   "source": [
    "np.isinf(np2d)"
   ]
  },
  {
   "cell_type": "code",
   "execution_count": 28,
   "id": "b98b4907",
   "metadata": {},
   "outputs": [],
   "source": [
    "flag=np.isnan(np2d)|np.isinf(np2d)"
   ]
  },
  {
   "cell_type": "code",
   "execution_count": 29,
   "id": "d4829bf7",
   "metadata": {},
   "outputs": [
    {
     "data": {
      "text/plain": [
       "array([[ True, False, False],\n",
       "       [False,  True, False],\n",
       "       [False, False, False]])"
      ]
     },
     "execution_count": 29,
     "metadata": {},
     "output_type": "execute_result"
    }
   ],
   "source": [
    "flag"
   ]
  },
  {
   "cell_type": "code",
   "execution_count": 30,
   "id": "59ede85a",
   "metadata": {},
   "outputs": [
    {
     "data": {
      "text/plain": [
       "array([nan, inf])"
      ]
     },
     "execution_count": 30,
     "metadata": {},
     "output_type": "execute_result"
    }
   ],
   "source": [
    "np2d[flag]"
   ]
  },
  {
   "cell_type": "code",
   "execution_count": 32,
   "id": "42a053d2",
   "metadata": {},
   "outputs": [],
   "source": [
    "np2d[flag]=0"
   ]
  },
  {
   "cell_type": "code",
   "execution_count": 33,
   "id": "4673a3db",
   "metadata": {},
   "outputs": [
    {
     "data": {
      "text/plain": [
       "array([[0., 2., 3.],\n",
       "       [4., 0., 6.],\n",
       "       [7., 8., 9.]])"
      ]
     },
     "execution_count": 33,
     "metadata": {},
     "output_type": "execute_result"
    }
   ],
   "source": [
    "np2d"
   ]
  },
  {
   "cell_type": "markdown",
   "id": "3089a270",
   "metadata": {},
   "source": [
    "# statistical Operation"
   ]
  },
  {
   "cell_type": "raw",
   "id": "f3ebed6b",
   "metadata": {},
   "source": [
    "mean,variance,std,med"
   ]
  },
  {
   "cell_type": "code",
   "execution_count": 34,
   "id": "4749071b",
   "metadata": {},
   "outputs": [
    {
     "data": {
      "text/plain": [
       "array([[0., 2., 3.],\n",
       "       [4., 0., 6.],\n",
       "       [7., 8., 9.]])"
      ]
     },
     "execution_count": 34,
     "metadata": {},
     "output_type": "execute_result"
    }
   ],
   "source": [
    "np2d"
   ]
  },
  {
   "cell_type": "code",
   "execution_count": 35,
   "id": "336fe899",
   "metadata": {},
   "outputs": [
    {
     "data": {
      "text/plain": [
       "4.333333333333333"
      ]
     },
     "execution_count": 35,
     "metadata": {},
     "output_type": "execute_result"
    }
   ],
   "source": [
    "np2d.mean()"
   ]
  },
  {
   "cell_type": "code",
   "execution_count": 36,
   "id": "70ca48cc",
   "metadata": {},
   "outputs": [
    {
     "data": {
      "text/plain": [
       "0.0"
      ]
     },
     "execution_count": 36,
     "metadata": {},
     "output_type": "execute_result"
    }
   ],
   "source": [
    "np2d.min()"
   ]
  },
  {
   "cell_type": "code",
   "execution_count": 37,
   "id": "67a0a5ba",
   "metadata": {},
   "outputs": [
    {
     "data": {
      "text/plain": [
       "9.0"
      ]
     },
     "execution_count": 37,
     "metadata": {},
     "output_type": "execute_result"
    }
   ],
   "source": [
    "np2d.max()"
   ]
  },
  {
   "cell_type": "code",
   "execution_count": 38,
   "id": "cf75167b",
   "metadata": {},
   "outputs": [
    {
     "data": {
      "text/plain": [
       "10.000000000000002"
      ]
     },
     "execution_count": 38,
     "metadata": {},
     "output_type": "execute_result"
    }
   ],
   "source": [
    "np2d.var()"
   ]
  },
  {
   "cell_type": "code",
   "execution_count": 39,
   "id": "ab7017f4",
   "metadata": {},
   "outputs": [
    {
     "data": {
      "text/plain": [
       "3.1622776601683795"
      ]
     },
     "execution_count": 39,
     "metadata": {},
     "output_type": "execute_result"
    }
   ],
   "source": [
    "np2d.std()"
   ]
  },
  {
   "cell_type": "code",
   "execution_count": 41,
   "id": "fd089bf7",
   "metadata": {},
   "outputs": [
    {
     "data": {
      "text/plain": [
       "4.0"
      ]
     },
     "execution_count": 41,
     "metadata": {},
     "output_type": "execute_result"
    }
   ],
   "source": [
    "np.median(np2d)"
   ]
  },
  {
   "cell_type": "markdown",
   "id": "b1c66c8f",
   "metadata": {},
   "source": [
    "# Shape(),Reshape(),Ravel()"
   ]
  },
  {
   "cell_type": "code",
   "execution_count": 42,
   "id": "2a8c3461",
   "metadata": {},
   "outputs": [
    {
     "data": {
      "text/plain": [
       "(3, 3)"
      ]
     },
     "execution_count": 42,
     "metadata": {},
     "output_type": "execute_result"
    }
   ],
   "source": [
    "np2d.shape"
   ]
  },
  {
   "cell_type": "code",
   "execution_count": 45,
   "id": "1bb249e7",
   "metadata": {},
   "outputs": [
    {
     "data": {
      "text/plain": [
       "array([[0., 4., 7.],\n",
       "       [2., 0., 8.],\n",
       "       [3., 6., 9.]])"
      ]
     },
     "execution_count": 45,
     "metadata": {},
     "output_type": "execute_result"
    }
   ],
   "source": [
    "np2d.T   # Transpose"
   ]
  },
  {
   "cell_type": "code",
   "execution_count": 47,
   "id": "b6d898fe",
   "metadata": {},
   "outputs": [
    {
     "data": {
      "text/plain": [
       "array([[0., 2., 3., 4., 0., 6., 7., 8., 9.]])"
      ]
     },
     "execution_count": 47,
     "metadata": {},
     "output_type": "execute_result"
    }
   ],
   "source": [
    "np2d.reshape(1,9)  # this is not in 1D-array"
   ]
  },
  {
   "cell_type": "code",
   "execution_count": 48,
   "id": "2d6da9b9",
   "metadata": {},
   "outputs": [
    {
     "data": {
      "text/plain": [
       "array([0., 2., 3., 4., 0., 6., 7., 8., 9.])"
      ]
     },
     "execution_count": 48,
     "metadata": {},
     "output_type": "execute_result"
    }
   ],
   "source": [
    "np2d.reshape(1,9).ravel() # now this is 1D-array "
   ]
  },
  {
   "cell_type": "code",
   "execution_count": 49,
   "id": "86cdb37a",
   "metadata": {},
   "outputs": [
    {
     "data": {
      "text/plain": [
       "array([0., 2., 3., 4., 0., 6., 7., 8., 9.])"
      ]
     },
     "execution_count": 49,
     "metadata": {},
     "output_type": "execute_result"
    }
   ],
   "source": [
    "np2d.flatten()"
   ]
  },
  {
   "cell_type": "markdown",
   "id": "6a246c33",
   "metadata": {},
   "source": [
    "# sequence,repetition and random numbers\n",
    "\n",
    "  ## arrange(),linespace(),random(),zeros() and ones()"
   ]
  },
  {
   "cell_type": "code",
   "execution_count": 50,
   "id": "3fdaf8b6",
   "metadata": {},
   "outputs": [
    {
     "data": {
      "text/plain": [
       "array([1, 2, 3, 4])"
      ]
     },
     "execution_count": 50,
     "metadata": {},
     "output_type": "execute_result"
    }
   ],
   "source": [
    "np.arange(1,5)"
   ]
  },
  {
   "cell_type": "code",
   "execution_count": 51,
   "id": "1b628db1",
   "metadata": {},
   "outputs": [
    {
     "data": {
      "text/plain": [
       "array([1., 2., 3., 4.])"
      ]
     },
     "execution_count": 51,
     "metadata": {},
     "output_type": "execute_result"
    }
   ],
   "source": [
    "np.arange(1,5,dtype='float')"
   ]
  },
  {
   "cell_type": "code",
   "execution_count": 52,
   "id": "cdfc4222",
   "metadata": {},
   "outputs": [
    {
     "data": {
      "text/plain": [
       "array([ 1,  4,  7, 10, 13, 16, 19])"
      ]
     },
     "execution_count": 52,
     "metadata": {},
     "output_type": "execute_result"
    }
   ],
   "source": [
    "np.arange(1,20,3) # difference b/w numbers is 3"
   ]
  },
  {
   "cell_type": "markdown",
   "id": "af04ec86",
   "metadata": {},
   "source": [
    "### linspace"
   ]
  },
  {
   "cell_type": "code",
   "execution_count": 54,
   "id": "e2b62239",
   "metadata": {},
   "outputs": [
    {
     "data": {
      "text/plain": [
       "array([ 1. , 10.5, 20. ])"
      ]
     },
     "execution_count": 54,
     "metadata": {},
     "output_type": "execute_result"
    }
   ],
   "source": [
    "np.linspace(1,20,3)"
   ]
  },
  {
   "cell_type": "code",
   "execution_count": 55,
   "id": "077bd06a",
   "metadata": {},
   "outputs": [
    {
     "data": {
      "text/plain": [
       "array([ 1.  ,  5.75, 10.5 , 15.25, 20.  ])"
      ]
     },
     "execution_count": 55,
     "metadata": {},
     "output_type": "execute_result"
    }
   ],
   "source": [
    "np.linspace(1,20,5)"
   ]
  },
  {
   "cell_type": "markdown",
   "id": "f9e52a07",
   "metadata": {},
   "source": [
    "### logspace"
   ]
  },
  {
   "cell_type": "code",
   "execution_count": 56,
   "id": "795b1f65",
   "metadata": {},
   "outputs": [
    {
     "data": {
      "text/plain": [
       "array([1.00000000e+01, 2.78255940e+06, 7.74263683e+11, 2.15443469e+17,\n",
       "       5.99484250e+22, 1.66810054e+28, 4.64158883e+33, 1.29154967e+39,\n",
       "       3.59381366e+44, 1.00000000e+50])"
      ]
     },
     "execution_count": 56,
     "metadata": {},
     "output_type": "execute_result"
    }
   ],
   "source": [
    "np.logspace(1,50,10)"
   ]
  },
  {
   "cell_type": "markdown",
   "id": "a9ebc8ef",
   "metadata": {},
   "source": [
    "### zeros"
   ]
  },
  {
   "cell_type": "code",
   "execution_count": 58,
   "id": "f33876f5",
   "metadata": {},
   "outputs": [
    {
     "data": {
      "text/plain": [
       "array([[0., 0., 0., 0., 0.]])"
      ]
     },
     "execution_count": 58,
     "metadata": {},
     "output_type": "execute_result"
    }
   ],
   "source": [
    "np.zeros([1,5])"
   ]
  },
  {
   "cell_type": "code",
   "execution_count": 60,
   "id": "de5b07f0",
   "metadata": {},
   "outputs": [
    {
     "data": {
      "text/plain": [
       "array([[[0., 0., 0.],\n",
       "        [0., 0., 0.]]])"
      ]
     },
     "execution_count": 60,
     "metadata": {},
     "output_type": "execute_result"
    }
   ],
   "source": [
    "np.zeros([1,2,3])"
   ]
  },
  {
   "cell_type": "markdown",
   "id": "82102f05",
   "metadata": {},
   "source": [
    "### ones"
   ]
  },
  {
   "cell_type": "code",
   "execution_count": 62,
   "id": "20b7a5b0",
   "metadata": {},
   "outputs": [
    {
     "data": {
      "text/plain": [
       "array([[[1., 1.],\n",
       "        [1., 1.]]])"
      ]
     },
     "execution_count": 62,
     "metadata": {},
     "output_type": "execute_result"
    }
   ],
   "source": [
    "np.ones([1,2,2])"
   ]
  },
  {
   "cell_type": "markdown",
   "id": "17bd9abb",
   "metadata": {},
   "source": [
    "### tile(repeat some praticular sequence)"
   ]
  },
  {
   "cell_type": "code",
   "execution_count": 64,
   "id": "8ede2e8e",
   "metadata": {},
   "outputs": [
    {
     "data": {
      "text/plain": [
       "array([1, 2, 1, 2, 1, 2])"
      ]
     },
     "execution_count": 64,
     "metadata": {},
     "output_type": "execute_result"
    }
   ],
   "source": [
    "np.tile([1,2],3)"
   ]
  },
  {
   "cell_type": "markdown",
   "id": "5164ba61",
   "metadata": {},
   "source": [
    "### repeat (it will repeat in ascending order)"
   ]
  },
  {
   "cell_type": "code",
   "execution_count": 65,
   "id": "766aebe7",
   "metadata": {},
   "outputs": [
    {
     "data": {
      "text/plain": [
       "array([1, 1, 1, 2, 2, 2])"
      ]
     },
     "execution_count": 65,
     "metadata": {},
     "output_type": "execute_result"
    }
   ],
   "source": [
    "np.repeat([1,2],3)"
   ]
  },
  {
   "cell_type": "markdown",
   "id": "d920a7b2",
   "metadata": {},
   "source": [
    "### random number"
   ]
  },
  {
   "cell_type": "code",
   "execution_count": 66,
   "id": "d1710a50",
   "metadata": {},
   "outputs": [
    {
     "data": {
      "text/plain": [
       "array([[0.48261539, 0.80871986, 0.1412724 ],\n",
       "       [0.6414665 , 0.9074229 , 0.86940615],\n",
       "       [0.66191455, 0.00844365, 0.00451363]])"
      ]
     },
     "execution_count": 66,
     "metadata": {},
     "output_type": "execute_result"
    }
   ],
   "source": [
    "np.random.rand(3,3)"
   ]
  },
  {
   "cell_type": "code",
   "execution_count": 88,
   "id": "4b2bcdd4",
   "metadata": {},
   "outputs": [
    {
     "data": {
      "text/plain": [
       "array([[86, 17, 30],\n",
       "       [43,  9, 89],\n",
       "       [ 6, 45, 22]])"
      ]
     },
     "execution_count": 88,
     "metadata": {},
     "output_type": "execute_result"
    }
   ],
   "source": [
    "np.random.randint(0,100,[3,3])"
   ]
  },
  {
   "cell_type": "code",
   "execution_count": 107,
   "id": "529fbbca",
   "metadata": {},
   "outputs": [
    {
     "data": {
      "text/plain": [
       "array([[37, 12, 72],\n",
       "       [ 9, 75,  5],\n",
       "       [79, 64, 16]])"
      ]
     },
     "execution_count": 107,
     "metadata": {},
     "output_type": "execute_result"
    }
   ],
   "source": [
    "np.random.seed(1)     # now this is fix this no changing random number\n",
    "np.random.randint(0,100,[3,3])"
   ]
  },
  {
   "cell_type": "code",
   "execution_count": 108,
   "id": "227b1e67",
   "metadata": {},
   "outputs": [
    {
     "data": {
      "text/plain": [
       "array([0., 2., 3., 4., 6., 7., 8., 9.])"
      ]
     },
     "execution_count": 108,
     "metadata": {},
     "output_type": "execute_result"
    }
   ],
   "source": [
    "np.unique(np2d)"
   ]
  },
  {
   "cell_type": "code",
   "execution_count": 110,
   "id": "dbe337c2",
   "metadata": {},
   "outputs": [
    {
     "data": {
      "text/plain": [
       "array([0, 1, 2, 3, 4, 5, 6, 7, 8, 9])"
      ]
     },
     "execution_count": 110,
     "metadata": {},
     "output_type": "execute_result"
    }
   ],
   "source": [
    "np.unique([1,2,3,4,4,5,5,6,6,6,7,8,9,0])"
   ]
  },
  {
   "cell_type": "code",
   "execution_count": 112,
   "id": "461c5db2",
   "metadata": {},
   "outputs": [],
   "source": [
    "new_arr=[1,2,3,4,4,5,5,6,6,6,7,8,9,0]"
   ]
  },
  {
   "cell_type": "code",
   "execution_count": 111,
   "id": "28103330",
   "metadata": {},
   "outputs": [
    {
     "data": {
      "text/plain": [
       "(array([0., 2., 3., 4., 6., 7., 8., 9.]),\n",
       " array([2, 1, 1, 1, 1, 1, 1, 1], dtype=int64))"
      ]
     },
     "execution_count": 111,
     "metadata": {},
     "output_type": "execute_result"
    }
   ],
   "source": [
    "np.unique(np2d,return_counts=True)"
   ]
  },
  {
   "cell_type": "code",
   "execution_count": 113,
   "id": "8dfe0e9b",
   "metadata": {},
   "outputs": [
    {
     "data": {
      "text/plain": [
       "(array([0, 1, 2, 3, 4, 5, 6, 7, 8, 9]),\n",
       " array([1, 1, 1, 1, 2, 2, 3, 1, 1, 1], dtype=int64))"
      ]
     },
     "execution_count": 113,
     "metadata": {},
     "output_type": "execute_result"
    }
   ],
   "source": [
    "np.unique(new_arr,return_counts=True)"
   ]
  },
  {
   "cell_type": "markdown",
   "id": "e431a47f",
   "metadata": {},
   "source": [
    "# Where()"
   ]
  },
  {
   "cell_type": "code",
   "execution_count": 116,
   "id": "1c8b0bc5",
   "metadata": {},
   "outputs": [],
   "source": [
    "new_arr=np.array(new_arr)"
   ]
  },
  {
   "cell_type": "code",
   "execution_count": 118,
   "id": "ad5c17ec",
   "metadata": {},
   "outputs": [
    {
     "data": {
      "text/plain": [
       "array([1, 2, 3, 4, 4, 5, 5, 6, 6, 6, 7, 8, 9, 0])"
      ]
     },
     "execution_count": 118,
     "metadata": {},
     "output_type": "execute_result"
    }
   ],
   "source": [
    "new_arr"
   ]
  },
  {
   "cell_type": "code",
   "execution_count": 119,
   "id": "ff8a208e",
   "metadata": {},
   "outputs": [
    {
     "data": {
      "text/plain": [
       "14"
      ]
     },
     "execution_count": 119,
     "metadata": {},
     "output_type": "execute_result"
    }
   ],
   "source": [
    "len(new_arr)"
   ]
  },
  {
   "cell_type": "code",
   "execution_count": 117,
   "id": "d679459c",
   "metadata": {},
   "outputs": [
    {
     "data": {
      "text/plain": [
       "(array([ 7,  8,  9, 10, 11, 12], dtype=int64),)"
      ]
     },
     "execution_count": 117,
     "metadata": {},
     "output_type": "execute_result"
    }
   ],
   "source": [
    "np.where(new_arr>5)"
   ]
  },
  {
   "cell_type": "code",
   "execution_count": 121,
   "id": "2479ad2a",
   "metadata": {},
   "outputs": [
    {
     "data": {
      "text/plain": [
       "array([6, 6, 6, 7, 8, 9])"
      ]
     },
     "execution_count": 121,
     "metadata": {},
     "output_type": "execute_result"
    }
   ],
   "source": [
    "index=np.where(new_arr>5)\n",
    "new_arr[index]"
   ]
  },
  {
   "cell_type": "code",
   "execution_count": 123,
   "id": "3d972ef5",
   "metadata": {},
   "outputs": [
    {
     "data": {
      "text/plain": [
       "array([False, False, False, False, False, False, False,  True,  True,\n",
       "        True,  True,  True,  True, False])"
      ]
     },
     "execution_count": 123,
     "metadata": {},
     "output_type": "execute_result"
    }
   ],
   "source": [
    "new_arr>5"
   ]
  },
  {
   "cell_type": "code",
   "execution_count": 124,
   "id": "689d9d1e",
   "metadata": {},
   "outputs": [
    {
     "data": {
      "text/plain": [
       "array([6, 6, 6, 7, 8, 9])"
      ]
     },
     "execution_count": 124,
     "metadata": {},
     "output_type": "execute_result"
    }
   ],
   "source": [
    "new_arr[new_arr>5]"
   ]
  },
  {
   "cell_type": "code",
   "execution_count": 125,
   "id": "cce150a9",
   "metadata": {},
   "outputs": [
    {
     "data": {
      "text/plain": [
       "9"
      ]
     },
     "execution_count": 125,
     "metadata": {},
     "output_type": "execute_result"
    }
   ],
   "source": [
    "new_arr.max()"
   ]
  },
  {
   "cell_type": "code",
   "execution_count": 128,
   "id": "d6b08496",
   "metadata": {},
   "outputs": [
    {
     "data": {
      "text/plain": [
       "12"
      ]
     },
     "execution_count": 128,
     "metadata": {},
     "output_type": "execute_result"
    }
   ],
   "source": [
    "new_arr.argmax()"
   ]
  },
  {
   "cell_type": "code",
   "execution_count": 129,
   "id": "206286d6",
   "metadata": {},
   "outputs": [
    {
     "data": {
      "text/plain": [
       "13"
      ]
     },
     "execution_count": 129,
     "metadata": {},
     "output_type": "execute_result"
    }
   ],
   "source": [
    "new_arr.argmin()"
   ]
  },
  {
   "cell_type": "code",
   "execution_count": 130,
   "id": "7ea74e6a",
   "metadata": {},
   "outputs": [
    {
     "data": {
      "text/plain": [
       "9"
      ]
     },
     "execution_count": 130,
     "metadata": {},
     "output_type": "execute_result"
    }
   ],
   "source": [
    "new_arr[new_arr.argmax()]"
   ]
  },
  {
   "cell_type": "markdown",
   "id": "3f943961",
   "metadata": {},
   "source": [
    "# File Read and Write"
   ]
  },
  {
   "cell_type": "code",
   "execution_count": 135,
   "id": "d961fa9e",
   "metadata": {},
   "outputs": [
    {
     "data": {
      "text/plain": [
       "array([[0., 2., 3.],\n",
       "       [4., 0., 6.],\n",
       "       [7., 8., 9.]])"
      ]
     },
     "execution_count": 135,
     "metadata": {},
     "output_type": "execute_result"
    }
   ],
   "source": [
    "np2d"
   ]
  },
  {
   "cell_type": "code",
   "execution_count": 136,
   "id": "693e5eb8",
   "metadata": {},
   "outputs": [],
   "source": [
    "np.savetxt('np2d.csv',np2d,delimiter=',')"
   ]
  },
  {
   "cell_type": "code",
   "execution_count": 137,
   "id": "8a342f74",
   "metadata": {},
   "outputs": [
    {
     "data": {
      "text/plain": [
       "array([[0., 2., 3.],\n",
       "       [4., 0., 6.],\n",
       "       [7., 8., 9.]])"
      ]
     },
     "execution_count": 137,
     "metadata": {},
     "output_type": "execute_result"
    }
   ],
   "source": [
    "np.loadtxt('np2d.csv',delimiter=',')"
   ]
  },
  {
   "cell_type": "code",
   "execution_count": 138,
   "id": "702759bf",
   "metadata": {},
   "outputs": [],
   "source": [
    "np.save('data.npy',np2d) # in numpy format"
   ]
  },
  {
   "cell_type": "code",
   "execution_count": 139,
   "id": "766c364a",
   "metadata": {},
   "outputs": [
    {
     "data": {
      "text/plain": [
       "array([[0., 2., 3.],\n",
       "       [4., 0., 6.],\n",
       "       [7., 8., 9.]])"
      ]
     },
     "execution_count": 139,
     "metadata": {},
     "output_type": "execute_result"
    }
   ],
   "source": [
    "np.load('data.npy')"
   ]
  },
  {
   "cell_type": "code",
   "execution_count": 140,
   "id": "d3cd3b2b",
   "metadata": {},
   "outputs": [],
   "source": [
    "np.savez('both.npz',np2d,new_arr)"
   ]
  },
  {
   "cell_type": "code",
   "execution_count": 142,
   "id": "b2a88007",
   "metadata": {},
   "outputs": [
    {
     "data": {
      "text/plain": [
       "['arr_0', 'arr_1']"
      ]
     },
     "execution_count": 142,
     "metadata": {},
     "output_type": "execute_result"
    }
   ],
   "source": [
    "np.load('both.npz').files"
   ]
  },
  {
   "cell_type": "code",
   "execution_count": 145,
   "id": "b23d891f",
   "metadata": {},
   "outputs": [
    {
     "data": {
      "text/plain": [
       "['arr_0', 'arr_1']"
      ]
     },
     "execution_count": 145,
     "metadata": {},
     "output_type": "execute_result"
    }
   ],
   "source": [
    "d=np.load('both.npz')\n",
    "d.files"
   ]
  },
  {
   "cell_type": "code",
   "execution_count": 146,
   "id": "557396c6",
   "metadata": {},
   "outputs": [
    {
     "data": {
      "text/plain": [
       "array([[0., 2., 3.],\n",
       "       [4., 0., 6.],\n",
       "       [7., 8., 9.]])"
      ]
     },
     "execution_count": 146,
     "metadata": {},
     "output_type": "execute_result"
    }
   ],
   "source": [
    "d[d.files[0]] #first file data"
   ]
  },
  {
   "cell_type": "code",
   "execution_count": 148,
   "id": "16b6e5ea",
   "metadata": {},
   "outputs": [
    {
     "data": {
      "text/plain": [
       "array([1, 2, 3, 4, 4, 5, 5, 6, 6, 6, 7, 8, 9, 0])"
      ]
     },
     "execution_count": 148,
     "metadata": {},
     "output_type": "execute_result"
    }
   ],
   "source": [
    "d[d.files[1]]"
   ]
  },
  {
   "cell_type": "markdown",
   "id": "121a49fe",
   "metadata": {},
   "source": [
    "# Concatenate and Sorting"
   ]
  },
  {
   "cell_type": "code",
   "execution_count": 149,
   "id": "80bd4a18",
   "metadata": {},
   "outputs": [
    {
     "data": {
      "text/plain": [
       "array([[0., 2., 3.],\n",
       "       [4., 0., 6.],\n",
       "       [7., 8., 9.]])"
      ]
     },
     "execution_count": 149,
     "metadata": {},
     "output_type": "execute_result"
    }
   ],
   "source": [
    "np2d"
   ]
  },
  {
   "cell_type": "code",
   "execution_count": 152,
   "id": "9a2f34fc",
   "metadata": {},
   "outputs": [
    {
     "data": {
      "text/plain": [
       "array([[0., 2., 3., 0., 2., 3.],\n",
       "       [4., 0., 6., 4., 0., 6.],\n",
       "       [7., 8., 9., 7., 8., 9.]])"
      ]
     },
     "execution_count": 152,
     "metadata": {},
     "output_type": "execute_result"
    }
   ],
   "source": [
    "np.concatenate([np2d,np2d],axis=1)"
   ]
  },
  {
   "cell_type": "code",
   "execution_count": 153,
   "id": "df54c89d",
   "metadata": {},
   "outputs": [
    {
     "data": {
      "text/plain": [
       "array([[0., 2., 3.],\n",
       "       [4., 0., 6.],\n",
       "       [7., 8., 9.],\n",
       "       [0., 2., 3.],\n",
       "       [4., 0., 6.],\n",
       "       [7., 8., 9.]])"
      ]
     },
     "execution_count": 153,
     "metadata": {},
     "output_type": "execute_result"
    }
   ],
   "source": [
    "np.concatenate([np2d,np2d],axis=0)"
   ]
  },
  {
   "cell_type": "markdown",
   "id": "0c0509b3",
   "metadata": {},
   "source": [
    "# Another methods of concatenation vstack & hstack"
   ]
  },
  {
   "cell_type": "code",
   "execution_count": 154,
   "id": "bdd8945c",
   "metadata": {},
   "outputs": [
    {
     "data": {
      "text/plain": [
       "array([[0., 2., 3.],\n",
       "       [4., 0., 6.],\n",
       "       [7., 8., 9.],\n",
       "       [0., 2., 3.],\n",
       "       [4., 0., 6.],\n",
       "       [7., 8., 9.]])"
      ]
     },
     "execution_count": 154,
     "metadata": {},
     "output_type": "execute_result"
    }
   ],
   "source": [
    "np.vstack([np2d,np2d]) # vertically concatenating"
   ]
  },
  {
   "cell_type": "code",
   "execution_count": 155,
   "id": "5575cc26",
   "metadata": {},
   "outputs": [
    {
     "data": {
      "text/plain": [
       "array([[0., 2., 3., 0., 2., 3.],\n",
       "       [4., 0., 6., 4., 0., 6.],\n",
       "       [7., 8., 9., 7., 8., 9.]])"
      ]
     },
     "execution_count": 155,
     "metadata": {},
     "output_type": "execute_result"
    }
   ],
   "source": [
    "np.hstack([np2d,np2d]) # horizontally concatenating"
   ]
  },
  {
   "cell_type": "markdown",
   "id": "97b40393",
   "metadata": {},
   "source": [
    "# sorting numpy array"
   ]
  },
  {
   "cell_type": "code",
   "execution_count": 157,
   "id": "62e152b8",
   "metadata": {},
   "outputs": [],
   "source": [
    "np2d.sort()"
   ]
  },
  {
   "cell_type": "code",
   "execution_count": 158,
   "id": "db5bad6b",
   "metadata": {},
   "outputs": [
    {
     "data": {
      "text/plain": [
       "array([[0., 2., 3.],\n",
       "       [0., 4., 6.],\n",
       "       [7., 8., 9.]])"
      ]
     },
     "execution_count": 158,
     "metadata": {},
     "output_type": "execute_result"
    }
   ],
   "source": [
    "np2d"
   ]
  },
  {
   "cell_type": "markdown",
   "id": "a5f8e466",
   "metadata": {},
   "source": [
    "# Working with Dates"
   ]
  },
  {
   "cell_type": "code",
   "execution_count": 160,
   "id": "11725646",
   "metadata": {},
   "outputs": [],
   "source": [
    "d=np.datetime64('2020-12-01 23:34:23')"
   ]
  },
  {
   "cell_type": "code",
   "execution_count": 161,
   "id": "642aa36d",
   "metadata": {},
   "outputs": [
    {
     "data": {
      "text/plain": [
       "numpy.datetime64('2020-12-01T23:34:23')"
      ]
     },
     "execution_count": 161,
     "metadata": {},
     "output_type": "execute_result"
    }
   ],
   "source": [
    "d"
   ]
  },
  {
   "cell_type": "code",
   "execution_count": 162,
   "id": "54ec91e9",
   "metadata": {},
   "outputs": [
    {
     "data": {
      "text/plain": [
       "numpy.datetime64('2020-12-01T23:34:33')"
      ]
     },
     "execution_count": 162,
     "metadata": {},
     "output_type": "execute_result"
    }
   ],
   "source": [
    "d+10 # this 10 is add in the second"
   ]
  },
  {
   "cell_type": "code",
   "execution_count": 163,
   "id": "d54fe105",
   "metadata": {},
   "outputs": [],
   "source": [
    "oneday=np.timedelta64(1,'D') # this is 1-Day"
   ]
  },
  {
   "cell_type": "code",
   "execution_count": 164,
   "id": "1f168af9",
   "metadata": {},
   "outputs": [
    {
     "data": {
      "text/plain": [
       "numpy.timedelta64(1,'D')"
      ]
     },
     "execution_count": 164,
     "metadata": {},
     "output_type": "execute_result"
    }
   ],
   "source": [
    "oneday"
   ]
  },
  {
   "cell_type": "code",
   "execution_count": 165,
   "id": "1f1a91a2",
   "metadata": {},
   "outputs": [
    {
     "data": {
      "text/plain": [
       "numpy.datetime64('2020-12-02T23:34:23')"
      ]
     },
     "execution_count": 165,
     "metadata": {},
     "output_type": "execute_result"
    }
   ],
   "source": [
    "d+oneday # adding one day in previous date & time"
   ]
  },
  {
   "cell_type": "code",
   "execution_count": 166,
   "id": "ef3965a6",
   "metadata": {},
   "outputs": [],
   "source": [
    "oneminute=np.timedelta64(1,'m')"
   ]
  },
  {
   "cell_type": "code",
   "execution_count": 167,
   "id": "bb407365",
   "metadata": {},
   "outputs": [
    {
     "data": {
      "text/plain": [
       "numpy.datetime64('2020-12-01T23:35:23')"
      ]
     },
     "execution_count": 167,
     "metadata": {},
     "output_type": "execute_result"
    }
   ],
   "source": [
    "d+oneminute"
   ]
  }
 ],
 "metadata": {
  "kernelspec": {
   "display_name": "Python 3",
   "language": "python",
   "name": "python3"
  },
  "language_info": {
   "codemirror_mode": {
    "name": "ipython",
    "version": 3
   },
   "file_extension": ".py",
   "mimetype": "text/x-python",
   "name": "python",
   "nbconvert_exporter": "python",
   "pygments_lexer": "ipython3",
   "version": "3.8.8"
  }
 },
 "nbformat": 4,
 "nbformat_minor": 5
}
